{
 "cells": [
  {
   "cell_type": "code",
   "execution_count": 4,
   "id": "6ea339bc-c825-4a67-9db1-b141f2415d6a",
   "metadata": {},
   "outputs": [
    {
     "data": {
      "text/html": [
       "<div>\n",
       "<style scoped>\n",
       "    .dataframe tbody tr th:only-of-type {\n",
       "        vertical-align: middle;\n",
       "    }\n",
       "\n",
       "    .dataframe tbody tr th {\n",
       "        vertical-align: top;\n",
       "    }\n",
       "\n",
       "    .dataframe thead th {\n",
       "        text-align: right;\n",
       "    }\n",
       "</style>\n",
       "<table border=\"1\" class=\"dataframe\">\n",
       "  <thead>\n",
       "    <tr style=\"text-align: right;\">\n",
       "      <th></th>\n",
       "      <th>user_id</th>\n",
       "      <th>movie_id</th>\n",
       "      <th>rating</th>\n",
       "    </tr>\n",
       "  </thead>\n",
       "  <tbody>\n",
       "    <tr>\n",
       "      <th>0</th>\n",
       "      <td>196</td>\n",
       "      <td>242</td>\n",
       "      <td>3</td>\n",
       "    </tr>\n",
       "    <tr>\n",
       "      <th>1</th>\n",
       "      <td>186</td>\n",
       "      <td>302</td>\n",
       "      <td>3</td>\n",
       "    </tr>\n",
       "    <tr>\n",
       "      <th>2</th>\n",
       "      <td>22</td>\n",
       "      <td>377</td>\n",
       "      <td>1</td>\n",
       "    </tr>\n",
       "    <tr>\n",
       "      <th>3</th>\n",
       "      <td>244</td>\n",
       "      <td>51</td>\n",
       "      <td>2</td>\n",
       "    </tr>\n",
       "    <tr>\n",
       "      <th>4</th>\n",
       "      <td>166</td>\n",
       "      <td>346</td>\n",
       "      <td>1</td>\n",
       "    </tr>\n",
       "  </tbody>\n",
       "</table>\n",
       "</div>"
      ],
      "text/plain": [
       "   user_id  movie_id  rating\n",
       "0      196       242       3\n",
       "1      186       302       3\n",
       "2       22       377       1\n",
       "3      244        51       2\n",
       "4      166       346       1"
      ]
     },
     "execution_count": 4,
     "metadata": {},
     "output_type": "execute_result"
    }
   ],
   "source": [
    "import pandas as pd\n",
    "\n",
    "\n",
    "url = 'https://files.grouplens.org/datasets/movielens/ml-100k/u.data'\n",
    "column_names = ['user_id', 'movie_id', 'rating', 'timestamp']\n",
    "df = pd.read_csv(url, sep='\\t', names=column_names)\n",
    "\n",
    "\n",
    "df = df.drop(columns=['timestamp'])\n",
    "\n",
    "\n",
    "df.head()\n"
   ]
  },
  {
   "cell_type": "code",
   "execution_count": 5,
   "id": "ca6215a1-776c-447e-8e29-d72dfa401fb7",
   "metadata": {},
   "outputs": [
    {
     "data": {
      "text/plain": [
       "(943, 1682)"
      ]
     },
     "execution_count": 5,
     "metadata": {},
     "output_type": "execute_result"
    }
   ],
   "source": [
    "import numpy as np\n",
    "\n",
    "\n",
    "num_users = df['user_id'].nunique()\n",
    "num_items = df['movie_id'].nunique()\n",
    "user_item_matrix = np.zeros((num_users, num_items))\n",
    "\n",
    "for line in df.itertuples():\n",
    "    user_item_matrix[line[1]-1, line[2]-1] = line[3]\n",
    "\n",
    "\n",
    "user_item_matrix.shape\n"
   ]
  },
  {
   "cell_type": "code",
   "execution_count": 11,
   "id": "67bf312d-3d40-4aa6-8e65-fa515f6035d5",
   "metadata": {},
   "outputs": [],
   "source": [
    "import numpy as np\n",
    "\n",
    "def fast_matrix_factorization(R, K=50, steps=2000, alpha=0.0002, beta=0.02, tol=0.001):\n",
    "    \"\"\"\n",
    "    Faster matrix factorization using NumPy vectorization.\n",
    "    R: user-item rating matrix (2D NumPy array)\n",
    "    K: number of latent features\n",
    "    steps: number of training iterations\n",
    "    alpha: learning rate\n",
    "    beta: regularization parameter\n",
    "    tol: convergence threshold\n",
    "    \"\"\"\n",
    "    num_users, num_items = R.shape\n",
    "    P = np.random.rand(num_users, K)\n",
    "    Q = np.random.rand(num_items, K)\n",
    "\n",
    "    \n",
    "    mask = R > 0\n",
    "\n",
    "    for step in range(steps):\n",
    "        prediction = P @ Q.T\n",
    "        error = R - prediction\n",
    "        error[~mask] = 0  \n",
    "\n",
    "        P_grad = -2 * error @ Q + beta * P\n",
    "        Q_grad = -2 * error.T @ P + beta * Q\n",
    "\n",
    "        P -= alpha * P_grad\n",
    "        Q -= alpha * Q_grad\n",
    "\n",
    "        loss = np.sum(error[mask] ** 2) + beta/2 * (np.sum(P**2) + np.sum(Q**2))\n",
    "        if step % 100 == 0:\n",
    "            print(f\"Step {step}, Loss: {loss:.4f}\")\n",
    "        if loss < tol:\n",
    "            break\n",
    "\n",
    "    return P, Q\n"
   ]
  },
  {
   "cell_type": "code",
   "execution_count": 12,
   "id": "d7a6523a-bb75-4635-be4d-c5b682cd3641",
   "metadata": {},
   "outputs": [
    {
     "name": "stdout",
     "output_type": "stream",
     "text": [
      "Step 0, Loss: 8242077.5813\n",
      "Step 100, Loss: 69158.0811\n",
      "Step 200, Loss: 47892.9933\n",
      "Step 300, Loss: 36173.2748\n",
      "Step 400, Loss: 29246.2662\n",
      "Step 500, Loss: 24819.1813\n",
      "Step 600, Loss: 21773.8719\n",
      "Step 700, Loss: 19557.3585\n",
      "Step 800, Loss: 17873.6748\n",
      "Step 900, Loss: 16551.6214\n",
      "Step 1000, Loss: 15485.8345\n",
      "Step 1100, Loss: 14608.0529\n",
      "Step 1200, Loss: 13872.1037\n",
      "Step 1300, Loss: 13245.6320\n",
      "Step 1400, Loss: 12705.3120\n",
      "Step 1500, Loss: 12233.9376\n",
      "Step 1600, Loss: 11818.5760\n",
      "Step 1700, Loss: 11449.3505\n",
      "Step 1800, Loss: 11118.6102\n",
      "Step 1900, Loss: 10820.3492\n"
     ]
    }
   ],
   "source": [
    "K = 50\n",
    "P, Q = fast_matrix_factorization(user_item_matrix, K)"
   ]
  },
  {
   "cell_type": "code",
   "execution_count": 14,
   "id": "3ac6a299-f006-46f2-a198-681ffd7258e0",
   "metadata": {},
   "outputs": [],
   "source": [
    "predicted_ratings = np.dot(P, Q.T)"
   ]
  },
  {
   "cell_type": "code",
   "execution_count": 15,
   "id": "8c40d1dc-a113-4de2-819c-70cbcb7de358",
   "metadata": {},
   "outputs": [
    {
     "name": "stdout",
     "output_type": "stream",
     "text": [
      "RMSE: 0.3205\n",
      "MAE: 0.2339\n"
     ]
    }
   ],
   "source": [
    "from sklearn.metrics import mean_squared_error, mean_absolute_error\n",
    "import numpy as np\n",
    "\n",
    "\n",
    "predicted_ratings = np.dot(P, Q.T)\n",
    "\n",
    "\n",
    "mask = user_item_matrix > 0\n",
    "\n",
    "\n",
    "true_ratings = user_item_matrix[mask]\n",
    "pred_ratings = predicted_ratings[mask]\n",
    "\n",
    "\n",
    "rmse = np.sqrt(mean_squared_error(true_ratings, pred_ratings))\n",
    "mae = mean_absolute_error(true_ratings, pred_ratings)\n",
    "\n",
    "print(f'RMSE: {rmse:.4f}')\n",
    "print(f'MAE: {mae:.4f}')\n"
   ]
  },
  {
   "cell_type": "code",
   "execution_count": 16,
   "id": "0a571400-6e10-4261-a2b8-af0474fa92d8",
   "metadata": {},
   "outputs": [
    {
     "data": {
      "image/png": "[encoded data removed]",
      "text/plain": [
       "<Figure size 600x600 with 1 Axes>"
      ]
     },
     "metadata": {},
     "output_type": "display_data"
    }
   ],
   "source": [
    "import matplotlib.pyplot as plt\n",
    "\n",
    "plt.figure(figsize=(6, 6))\n",
    "plt.scatter(true_ratings, pred_ratings, alpha=0.3, color='blue')\n",
    "plt.plot([1, 5], [1, 5], color='red', linestyle='--')  # ideal line\n",
    "plt.xlabel(\"Actual Ratings\")\n",
    "plt.ylabel(\"Predicted Ratings\")\n",
    "plt.title(\"Predicted vs Actual Ratings\")\n",
    "plt.grid(True)\n",
    "plt.show()\n"
   ]
  },
  {
   "cell_type": "code",
   "execution_count": null,
   "id": "f4b32c6b-2a40-413e-b020-1c4b5b95bd43",
   "metadata": {},
   "outputs": [],
   "source": []
  }
 ],
 "metadata": {
  "kernelspec": {
   "display_name": "Python 3 (ipykernel)",
   "language": "python",
   "name": "python3"
  },
  "language_info": {
   "codemirror_mode": {
    "name": "ipython",
    "version": 3
   },
   "file_extension": ".py",
   "mimetype": "text/x-python",
   "name": "python",
   "nbconvert_exporter": "python",
   "pygments_lexer": "ipython3",
   "version": "3.12.7"
  }
 },
 "nbformat": 4,
 "nbformat_minor": 5
}
